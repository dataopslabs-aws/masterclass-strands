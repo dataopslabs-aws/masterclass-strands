{
 "cells": [
  {
   "cell_type": "code",
   "execution_count": 3,
   "id": "847d1a1e",
   "metadata": {},
   "outputs": [
    {
     "name": "stderr",
     "output_type": "stream",
     "text": [
      "DEBUG | strands.models.bedrock | config=<{'model_id': 'us.anthropic.claude-3-7-sonnet-20250219-v1:0'}> | initializing\n",
      "DEBUG | strands.tools.registry | tool_name=<calculator>, tool_type=<function>, is_dynamic=<False> | registering tool\n",
      "DEBUG | strands.tools.registry | tool_name=<current_time>, tool_type=<function>, is_dynamic=<False> | registering tool\n",
      "DEBUG | strands.tools.registry | tools_dir=</Users/jayyanar/blogs-strands/tools> | tools directory not found\n",
      "DEBUG | strands.tools.registry | tool_modules=<[]> | discovered\n",
      "DEBUG | strands.tools.registry | tool_count=<0>, success_count=<0> | finished loading tools\n",
      "DEBUG | strands.tools.registry | tools_dir=</Users/jayyanar/blogs-strands/tools> | tools directory not found\n",
      "DEBUG | strands.tools.registry | getting tool configurations\n",
      "DEBUG | strands.tools.registry | tool_name=<calculator> | loaded tool config\n",
      "DEBUG | strands.tools.registry | tool_name=<current_time> | loaded tool config\n",
      "DEBUG | strands.tools.registry | tool_count=<2> | tools configured\n",
      "DEBUG | strands.tools.registry | getting tool configurations\n",
      "DEBUG | strands.tools.registry | tool_name=<calculator> | loaded tool config\n",
      "DEBUG | strands.tools.registry | tool_name=<current_time> | loaded tool config\n",
      "DEBUG | strands.tools.registry | tool_count=<2> | tools configured\n",
      "DEBUG | strands.event_loop.streaming | model=<<strands.models.bedrock.BedrockModel object at 0x10639f010>> | streaming messages\n",
      "DEBUG | strands.types.models.model | formatting request\n",
      "DEBUG | strands.types.models.model | invoking model\n",
      "DEBUG | strands.types.models.model | got response from model\n"
     ]
    },
    {
     "name": "stdout",
     "output_type": "stream",
     "text": [
      "I'll calculate that multiplication for you and tell you the current time.\n",
      "\n",
      "First"
     ]
    },
    {
     "name": "stderr",
     "output_type": "stream",
     "text": [
      "DEBUG | strands.types.models.model | finished streaming response from model\n",
      "DEBUG | strands.tools.executor | tool_count=<1>, tool_executor=<ThreadPoolExecutorWrapper> | executing tools in parallel\n",
      "DEBUG | strands.handlers.tool_handler | tool=<{'toolUseId': 'tooluse_-8WO095dTgSQrV1uuOfdtw', 'name': 'calculator', 'input': {'expression': '1234 * 5678'}}> | invoking\n",
      "DEBUG | strands.tools.executor | tool_count=<1> | submitted tasks to parallel executor\n"
     ]
    },
    {
     "name": "stdout",
     "output_type": "stream",
     "text": [
      ", let me calculate 1234 * 5678:\n",
      "Tool #3: calculator\n"
     ]
    },
    {
     "data": {
      "text/html": [
       "<pre style=\"white-space:pre;overflow-x:auto;line-height:normal;font-family:Menlo,'DejaVu Sans Mono',consolas,'Courier New',monospace\"><span style=\"color: #000080; text-decoration-color: #000080\">╭────────────────────────────────────────────── </span><span style=\"color: #000080; text-decoration-color: #000080; font-weight: bold\">Calculation Result</span><span style=\"color: #000080; text-decoration-color: #000080\"> ───────────────────────────────────────────────╮</span>\n",
       "<span style=\"color: #000080; text-decoration-color: #000080\">│</span>                                                                                                                 <span style=\"color: #000080; text-decoration-color: #000080\">│</span>\n",
       "<span style=\"color: #000080; text-decoration-color: #000080\">│</span>  ╭───────────┬─────────────────────╮                                                                            <span style=\"color: #000080; text-decoration-color: #000080\">│</span>\n",
       "<span style=\"color: #000080; text-decoration-color: #000080\">│</span>  │<span style=\"color: #008080; text-decoration-color: #008080\"> Operation </span>│<span style=\"color: #008000; text-decoration-color: #008000\"> Evaluate Expression </span>│                                                                            <span style=\"color: #000080; text-decoration-color: #000080\">│</span>\n",
       "<span style=\"color: #000080; text-decoration-color: #000080\">│</span>  │<span style=\"color: #008080; text-decoration-color: #008080\"> Input     </span>│<span style=\"color: #008000; text-decoration-color: #008000\"> 1234 * 5678         </span>│                                                                            <span style=\"color: #000080; text-decoration-color: #000080\">│</span>\n",
       "<span style=\"color: #000080; text-decoration-color: #000080\">│</span>  │<span style=\"color: #008080; text-decoration-color: #008080\"> Result    </span>│<span style=\"color: #008000; text-decoration-color: #008000\"> 7006652             </span>│                                                                            <span style=\"color: #000080; text-decoration-color: #000080\">│</span>\n",
       "<span style=\"color: #000080; text-decoration-color: #000080\">│</span>  ╰───────────┴─────────────────────╯                                                                            <span style=\"color: #000080; text-decoration-color: #000080\">│</span>\n",
       "<span style=\"color: #000080; text-decoration-color: #000080\">│</span>                                                                                                                 <span style=\"color: #000080; text-decoration-color: #000080\">│</span>\n",
       "<span style=\"color: #000080; text-decoration-color: #000080\">╰─────────────────────────────────────────────────────────────────────────────────────────────────────────────────╯</span>\n",
       "</pre>\n"
      ],
      "text/plain": [
       "\u001b[34m╭─\u001b[0m\u001b[34m─────────────────────────────────────────────\u001b[0m\u001b[34m \u001b[0m\u001b[1;34mCalculation Result\u001b[0m\u001b[34m \u001b[0m\u001b[34m──────────────────────────────────────────────\u001b[0m\u001b[34m─╮\u001b[0m\n",
       "\u001b[34m│\u001b[0m                                                                                                                 \u001b[34m│\u001b[0m\n",
       "\u001b[34m│\u001b[0m  ╭───────────┬─────────────────────╮                                                                            \u001b[34m│\u001b[0m\n",
       "\u001b[34m│\u001b[0m  │\u001b[36m \u001b[0m\u001b[36mOperation\u001b[0m\u001b[36m \u001b[0m│\u001b[32m \u001b[0m\u001b[32mEvaluate Expression\u001b[0m\u001b[32m \u001b[0m│                                                                            \u001b[34m│\u001b[0m\n",
       "\u001b[34m│\u001b[0m  │\u001b[36m \u001b[0m\u001b[36mInput    \u001b[0m\u001b[36m \u001b[0m│\u001b[32m \u001b[0m\u001b[32m1234 * 5678        \u001b[0m\u001b[32m \u001b[0m│                                                                            \u001b[34m│\u001b[0m\n",
       "\u001b[34m│\u001b[0m  │\u001b[36m \u001b[0m\u001b[36mResult   \u001b[0m\u001b[36m \u001b[0m│\u001b[32m \u001b[0m\u001b[32m7006652            \u001b[0m\u001b[32m \u001b[0m│                                                                            \u001b[34m│\u001b[0m\n",
       "\u001b[34m│\u001b[0m  ╰───────────┴─────────────────────╯                                                                            \u001b[34m│\u001b[0m\n",
       "\u001b[34m│\u001b[0m                                                                                                                 \u001b[34m│\u001b[0m\n",
       "\u001b[34m╰─────────────────────────────────────────────────────────────────────────────────────────────────────────────────╯\u001b[0m\n"
      ]
     },
     "metadata": {},
     "output_type": "display_data"
    },
    {
     "name": "stderr",
     "output_type": "stream",
     "text": [
      "DEBUG | strands.event_loop.streaming | model=<<strands.models.bedrock.BedrockModel object at 0x10639f010>> | streaming messages\n",
      "DEBUG | strands.types.models.model | formatting request\n",
      "DEBUG | strands.types.models.model | invoking model\n",
      "DEBUG | strands.types.models.model | got response from model\n",
      "DEBUG | strands.types.models.model | finished streaming response from model\n",
      "DEBUG | strands.handlers.tool_handler | tool=<{'toolUseId': 'tooluse_f9jfxZNRQCyswGER0z8RYA', 'name': 'current_time', 'input': {}}> | invoking\n",
      "DEBUG | strands.event_loop.streaming | model=<<strands.models.bedrock.BedrockModel object at 0x10639f010>> | streaming messages\n",
      "DEBUG | strands.types.models.model | formatting request\n",
      "DEBUG | strands.types.models.model | invoking model\n",
      "DEBUG | strands.types.models.model | got response from model\n"
     ]
    },
    {
     "name": "stdout",
     "output_type": "stream",
     "text": [
      "Now, let me check the current time:\n",
      "Tool #4: current_time\n",
      "1234 * 5678 = 7,006,652\n",
      "\n",
      "The current time is 2025-06-06T12:26:12.985335+00:00 (which is June 6, 2025, at 12:26:12 PM UTC"
     ]
    },
    {
     "name": "stderr",
     "output_type": "stream",
     "text": [
      "DEBUG | strands.types.models.model | finished streaming response from model\n",
      "DEBUG | strands.agent.conversation_manager.sliding_window_conversation_manager | window_size=<6>, message_count=<40> | skipping context reduction\n"
     ]
    },
    {
     "name": "stdout",
     "output_type": "stream",
     "text": [
      ").{'role': 'assistant', 'content': [{'text': '1234 * 5678 = 7,006,652\\n\\nThe current time is 2025-06-06T12:26:12.985335+00:00 (which is June 6, 2025, at 12:26:12 PM UTC).'}]}\n"
     ]
    }
   ],
   "source": [
    "import logging\n",
    "from strands import Agent\n",
    "from strands_tools import calculator, current_time\n",
    "\n",
    "# Enables Strands debug log level\n",
    "logging.getLogger(\"strands\").setLevel(logging.DEBUG)\n",
    "\n",
    "# Sets the logging format and streams logs to stderr\n",
    "logging.basicConfig(\n",
    "    format=\"%(levelname)s | %(name)s | %(message)s\",\n",
    "    handlers=[logging.StreamHandler()]\n",
    ")\n",
    "\n",
    "# Define our agent\n",
    "agent = Agent(\n",
    "    # Use Claude 3.7 Sonnet from Amazon Bedrock\n",
    "    model=\"us.anthropic.claude-3-7-sonnet-20250219-v1:0\",\n",
    "    # Add calculator and current_time tools\n",
    "    tools=[calculator, current_time],\n",
    "    # Set the system prompt\n",
    "    system_prompt=\"You are a helpful assistant that specializes in mathematics and time.\"\n",
    ")\n",
    "\n",
    "# Ask the agent a question\n",
    "response = agent(\"What is 1234 * 5678 and what time is it now?\")\n",
    "\n",
    "# Print the response\n",
    "print(response.message)"
   ]
  },
  {
   "cell_type": "code",
   "execution_count": null,
   "id": "dd0a769c",
   "metadata": {},
   "outputs": [],
   "source": []
  }
 ],
 "metadata": {
  "kernelspec": {
   "display_name": ".venv",
   "language": "python",
   "name": "python3"
  },
  "language_info": {
   "codemirror_mode": {
    "name": "ipython",
    "version": 3
   },
   "file_extension": ".py",
   "mimetype": "text/x-python",
   "name": "python",
   "nbconvert_exporter": "python",
   "pygments_lexer": "ipython3",
   "version": "3.11.5"
  }
 },
 "nbformat": 4,
 "nbformat_minor": 5
}
